{
 "cells": [
  {
   "cell_type": "code",
   "execution_count": 6,
   "metadata": {},
   "outputs": [
    {
     "name": "stdout",
     "output_type": "stream",
     "text": [
      "5\n"
     ]
    }
   ],
   "source": [
    "#Q1 Fibbonacci with memoization\n",
    "\n",
    "#BASE APPROACH\n",
    "\n",
    "memo = {} #Empty dictionary too store fibonacci reasults for memoization.\n",
    "\n",
    "def fib(n):\n",
    "\n",
    "    if n in memo:\n",
    "        return memo[n]\n",
    "\n",
    "    if n==0:\n",
    "        return 0\n",
    "    if n==1:\n",
    "        return 1\n",
    "    else:\n",
    "        result = fib(n-1) + fib(n-2)\n",
    "    \n",
    "    memo[n] = result\n",
    "    return result\n",
    "\n",
    "n = int(input(\"enter valuue for n :\"))\n",
    "print(fib(n))"
   ]
  },
  {
   "cell_type": "code",
   "execution_count": 8,
   "metadata": {},
   "outputs": [
    {
     "name": "stdout",
     "output_type": "stream",
     "text": [
      "Fibonacci number is: 280571172992510140037611932413038677189525\n"
     ]
    }
   ],
   "source": [
    "# 2ND APPROACH OF FIBONACCI PROBLEM\n",
    "\"\"\"\n",
    "What is @lru_cache?\n",
    "It stands for Least Recently Used cache.\n",
    "\n",
    "It automatically remembers the return value of your function for each unique input.\n",
    "\n",
    "Next time you call the function with the same input, it returns the stored result instantly.\n",
    "\n",
    "\n",
    "\"\"\"\n",
    "from functools import lru_cache\n",
    "\n",
    "@lru_cache(maxsize=None)  # This line adds memoization automatically\n",
    "def fib(n):\n",
    "    if n == 0:\n",
    "        return 0\n",
    "    if n == 1:\n",
    "        return 1\n",
    "    return fib(n - 1) + fib(n - 2)\n",
    "\n",
    "# Test\n",
    "n = int(input(\"Enter value for n: \"))\n",
    "print(\"Fibonacci number is:\", fib(n))\n"
   ]
  },
  {
   "cell_type": "markdown",
   "metadata": {},
   "source": [
    " q2 Define a function that takes two arguments,\n",
    " a and b, where b is a dictionary with a default value of an empty dictionary. The function should add a new key-value pair to the dictionary and return it. Test the function with different inputs."
   ]
  },
  {
   "cell_type": "code",
   "execution_count": null,
   "metadata": {},
   "outputs": [],
   "source": [
    "def add_to_dict(a,b={}):\n",
    "    "
   ]
  }
 ],
 "metadata": {
  "kernelspec": {
   "display_name": "base",
   "language": "python",
   "name": "python3"
  },
  "language_info": {
   "codemirror_mode": {
    "name": "ipython",
    "version": 3
   },
   "file_extension": ".py",
   "mimetype": "text/x-python",
   "name": "python",
   "nbconvert_exporter": "python",
   "pygments_lexer": "ipython3",
   "version": "3.12.4"
  }
 },
 "nbformat": 4,
 "nbformat_minor": 2
}
